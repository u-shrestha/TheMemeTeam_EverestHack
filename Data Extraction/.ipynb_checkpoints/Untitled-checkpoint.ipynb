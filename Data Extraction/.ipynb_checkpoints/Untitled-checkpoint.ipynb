{
 "cells": [
  {
   "cell_type": "code",
   "execution_count": 67,
   "metadata": {},
   "outputs": [],
   "source": [
    "#! python3\n",
    "import inspect\n",
    "import praw\n",
    "import pandas as pd\n",
    "import datetime as dt\n",
    "import matplotlib as plt"
   ]
  },
  {
   "cell_type": "code",
   "execution_count": 68,
   "metadata": {},
   "outputs": [],
   "source": [
    "reddit = praw.Reddit(client_id='K0MvgY52tRivJQ', \\\n",
    "                     client_secret='WM-jeFwR9AMb3RA2d9aY6jI3ln4', \\\n",
    "                     user_agent='apiforvisualization', \\\n",
    "                     username='dipti__', \\\n",
    "                     password='FxFECFX3jDuG4yw')\n",
    "user = \"dipti__\""
   ]
  },
  {
   "cell_type": "code",
   "execution_count": 69,
   "metadata": {},
   "outputs": [],
   "source": [
    "subreddit = reddit.subreddit('dankmemes')"
   ]
  },
  {
   "cell_type": "code",
   "execution_count": 70,
   "metadata": {},
   "outputs": [],
   "source": [
    "\n",
    "top_subreddit = subreddit.top(limit=50)"
   ]
  },
  {
   "cell_type": "markdown",
   "metadata": {},
   "source": [
    "topics_dict = { \"title\":[], \n",
    "                \"score\":[], \n",
    "                \"id\":[], \"url\":[], \n",
    "                \"comms_num\": [], \n",
    "                \"created\": [], \n",
    "                \"body\":[],\n",
    "                \"author\":[]}"
   ]
  },
  {
   "cell_type": "code",
   "execution_count": 71,
   "metadata": {},
   "outputs": [],
   "source": [
    "for submission in top_subreddit:\n",
    "    \n",
    "    topics_dict[\"title\"].append(submission.title)\n",
    "    topics_dict[\"score\"].append(submission.score)\n",
    "    topics_dict[\"id\"].append(submission.id)\n",
    "    topics_dict[\"url\"].append(submission.url)\n",
    "    topics_dict[\"comms_num\"].append(submission.num_comments)\n",
    "    topics_dict[\"created\"].append(submission.created)\n",
    "    topics_dict[\"body\"].append(submission.selftext)\n",
    "    topics_dict[\"author\"].append(submission.author)"
   ]
  },
  {
   "cell_type": "code",
   "execution_count": 72,
   "metadata": {},
   "outputs": [],
   "source": [
    "df= pd.DataFrame.from_dict(topics_dict)"
   ]
  },
  {
   "cell_type": "code",
   "execution_count": 74,
   "metadata": {},
   "outputs": [
    {
     "name": "stdout",
     "output_type": "stream",
     "text": [
      "                                                 title   score      id  \\\n",
      "0    Stefán Karl Stefánsson is the Meme of the Year...  179022  aj49zn   \n",
      "1                                   It's only logical.  135769  ajm3fc   \n",
      "2                                         My grades: F  134223  b4jykl   \n",
      "3                      Hopefully he doesn’t fail me...  128583  bzra7z   \n",
      "4                The entire Shrek movie but it's a gif  126990  bbncgy   \n",
      "..                                                 ...     ...     ...   \n",
      "295                          Cuz that's what heroes do   92149  cbwfd4   \n",
      "296                                Still like both tho   91754  cecefj   \n",
      "297                                       She decides.   91685  b4vdf2   \n",
      "298                                   advanced tactics   91191  a7m8ht   \n",
      "299                                look at bottom left   90360  b5ii81   \n",
      "\n",
      "                                     url  comms_num       created body  \\\n",
      "0        https://i.imgur.com/th7A2XW.jpg       2302  1.548305e+09        \n",
      "1    https://i.redd.it/lkar9b2leic21.png       2799  1.548425e+09        \n",
      "2    https://i.redd.it/kslk7bp3svn21.jpg       2350  1.553381e+09        \n",
      "3    https://i.redd.it/6czrmutdhx331.jpg       1471  1.560375e+09        \n",
      "4    https://i.redd.it/4vwc2telggr21.gif       3133  1.554939e+09        \n",
      "..                                   ...        ...           ...  ...   \n",
      "295  https://i.redd.it/n0v7ona8to931.jpg        765  1.562885e+09        \n",
      "296  https://i.redd.it/rczrcqxf1va31.jpg        920  1.563397e+09        \n",
      "297  https://i.redd.it/2hykemqdy1o21.jpg        692  1.553456e+09        \n",
      "298  https://i.redd.it/7licgvtwg8521.jpg       1114  1.545254e+09        \n",
      "299  https://i.redd.it/p39c00hatco21.png        902  1.553587e+09        \n",
      "\n",
      "               author  \n",
      "0      ELFAHBEHT_SOOP  \n",
      "1       FreeVegetable  \n",
      "2            Subcivil  \n",
      "3           Legend534  \n",
      "4        Snowywaterz4  \n",
      "..                ...  \n",
      "295  ClassicDecimus12  \n",
      "296   Midnight_Wookie  \n",
      "297    TheWolfRevenge  \n",
      "298          Brakonic  \n",
      "299         ChrisC-RD  \n",
      "\n",
      "[300 rows x 8 columns]\n"
     ]
    }
   ],
   "source": [
    "# userfiltered = df[\"author\"]==\"FreeVegetable\"\n",
    "# filtereddata = df[userfiltered]\n",
    "# print(filtereddata)\n",
    "print(df)"
   ]
  },
  {
   "cell_type": "code",
   "execution_count": null,
   "metadata": {},
   "outputs": [],
   "source": []
  },
  {
   "cell_type": "code",
   "execution_count": null,
   "metadata": {},
   "outputs": [],
   "source": []
  }
 ],
 "metadata": {
  "kernelspec": {
   "display_name": "Python 3",
   "language": "python",
   "name": "python3"
  },
  "language_info": {
   "codemirror_mode": {
    "name": "ipython",
    "version": 3
   },
   "file_extension": ".py",
   "mimetype": "text/x-python",
   "name": "python",
   "nbconvert_exporter": "python",
   "pygments_lexer": "ipython3",
   "version": "3.7.4"
  }
 },
 "nbformat": 4,
 "nbformat_minor": 2
}
