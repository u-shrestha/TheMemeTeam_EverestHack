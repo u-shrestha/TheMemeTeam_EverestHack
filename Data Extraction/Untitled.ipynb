{
 "cells": [
  {
   "cell_type": "code",
   "execution_count": 90,
   "metadata": {},
   "outputs": [],
   "source": [
    "#! python3\n",
    "import inspect\n",
    "import praw\n",
    "import pandas as pd\n",
    "import datetime as dt\n",
    "import matplotlib as plt"
   ]
  },
  {
   "cell_type": "code",
   "execution_count": 91,
   "metadata": {},
   "outputs": [],
   "source": [
    "reddit = praw.Reddit(client_id='K0MvgY52tRivJQ', \\\n",
    "                     client_secret='WM-jeFwR9AMb3RA2d9aY6jI3ln4', \\\n",
    "                     user_agent='apiforvisualization', \\\n",
    "                     username='dipti__', \\\n",
    "                     password='FxFECFX3jDuG4yw')\n",
    "user = \"dipti__\""
   ]
  },
  {
   "cell_type": "code",
   "execution_count": 92,
   "metadata": {},
   "outputs": [],
   "source": [
    "subreddit = reddit.subreddit('dankmemes')"
   ]
  },
  {
   "cell_type": "code",
   "execution_count": 93,
   "metadata": {},
   "outputs": [],
   "source": [
    "\n",
    "top_subreddit = subreddit.top(limit=50)"
   ]
  },
  {
   "cell_type": "markdown",
   "metadata": {},
   "source": [
    "topics_dict = { \"title\":[], \n",
    "                \"score\":[], \n",
    "                \"id\":[], \"url\":[], \n",
    "                \"comms_num\": [], \n",
    "                \"created\": [], \n",
    "                \"body\":[],\n",
    "                \"author\":[]}"
   ]
  },
  {
   "cell_type": "code",
   "execution_count": 94,
   "metadata": {},
   "outputs": [],
   "source": [
    "for submission in top_subreddit:\n",
    "    \n",
    "    topics_dict[\"title\"].append(submission.title)\n",
    "    topics_dict[\"score\"].append(submission.score)\n",
    "    topics_dict[\"id\"].append(submission.id)\n",
    "    topics_dict[\"url\"].append(submission.url)\n",
    "    topics_dict[\"comms_num\"].append(submission.num_comments)\n",
    "    topics_dict[\"created\"].append(submission.created)\n",
    "    topics_dict[\"body\"].append(submission.selftext)\n",
    "    topics_dict[\"author\"].append(submission.author)"
   ]
  },
  {
   "cell_type": "code",
   "execution_count": 95,
   "metadata": {},
   "outputs": [],
   "source": [
    "df= pd.DataFrame.from_dict(topics_dict)"
   ]
  },
  {
   "cell_type": "code",
   "execution_count": 97,
   "metadata": {},
   "outputs": [
    {
     "name": "stdout",
     "output_type": "stream",
     "text": [
      "            title   score      id                                  url  \\\n",
      "2    My grades: F  134223  b4jykl  https://i.redd.it/kslk7bp3svn21.jpg   \n",
      "52   My grades: F  134233  b4jykl  https://i.redd.it/kslk7bp3svn21.jpg   \n",
      "102  My grades: F  134260  b4jykl  https://i.redd.it/kslk7bp3svn21.jpg   \n",
      "152  My grades: F  134269  b4jykl  https://i.redd.it/kslk7bp3svn21.jpg   \n",
      "202  My grades: F  134268  b4jykl  https://i.redd.it/kslk7bp3svn21.jpg   \n",
      "252  My grades: F  134269  b4jykl  https://i.redd.it/kslk7bp3svn21.jpg   \n",
      "302  My grades: F  134276  b4jykl  https://i.redd.it/kslk7bp3svn21.jpg   \n",
      "352  My grades: F  134267  b4jykl  https://i.redd.it/kslk7bp3svn21.jpg   \n",
      "402  My grades: F  134275  b4jykl  https://i.redd.it/kslk7bp3svn21.jpg   \n",
      "\n",
      "     comms_num       created body    author  \n",
      "2         2350  1.553381e+09       Subcivil  \n",
      "52        2350  1.553381e+09       Subcivil  \n",
      "102       2350  1.553381e+09       Subcivil  \n",
      "152       2350  1.553381e+09       Subcivil  \n",
      "202       2350  1.553381e+09       Subcivil  \n",
      "252       2350  1.553381e+09       Subcivil  \n",
      "302       2350  1.553381e+09       Subcivil  \n",
      "352       2351  1.553381e+09       Subcivil  \n",
      "402       2351  1.553381e+09       Subcivil  \n"
     ]
    }
   ],
   "source": [
    "userfiltered = df[\"author\"]==\"Subcivil\"\n",
    "filtereddata = df[userfiltered]\n",
    "print(filtereddata)\n",
    "# print(df)"
   ]
  },
  {
   "cell_type": "code",
   "execution_count": null,
   "metadata": {},
   "outputs": [],
   "source": []
  },
  {
   "cell_type": "code",
   "execution_count": null,
   "metadata": {},
   "outputs": [],
   "source": []
  }
 ],
 "metadata": {
  "kernelspec": {
   "display_name": "Python 3",
   "language": "python",
   "name": "python3"
  },
  "language_info": {
   "codemirror_mode": {
    "name": "ipython",
    "version": 3
   },
   "file_extension": ".py",
   "mimetype": "text/x-python",
   "name": "python",
   "nbconvert_exporter": "python",
   "pygments_lexer": "ipython3",
   "version": "3.7.4"
  }
 },
 "nbformat": 4,
 "nbformat_minor": 2
}
